{
 "cells": [
  {
   "cell_type": "markdown",
   "metadata": {},
   "source": [
    "# Assignments"
   ]
  },
  {
   "cell_type": "markdown",
   "metadata": {},
   "source": [
    "## Q1. Write the Python function to get a string made of 4 copies of the last two characters of the specified string (length must be at least 2).\n",
    "\n",
    "    Sample function and result :\n",
    "    insert-end ('Python') -> abababab\n",
    "    insert-end('Exercises') -> jkjkjkjk"
   ]
  },
  {
   "cell_type": "code",
   "execution_count": 1,
   "metadata": {},
   "outputs": [
    {
     "name": "stdout",
     "output_type": "stream",
     "text": [
      "insert-end ('Python') -> onononon\n",
      "insert-end ('Exercises') -> eseseses\n"
     ]
    }
   ],
   "source": [
    "def insert_end(str1):\n",
    "    sub_str1 = str1[-2:]\n",
    "    return sub_str1 * 4\n",
    "\n",
    "a = insert_end('Python')\n",
    "b = insert_end('Exercises')\n",
    "print(f'insert-end (\\'Python\\') -> {a}')\n",
    "print(f'insert-end (\\'Exercises\\') -> {b}')"
   ]
  },
  {
   "cell_type": "markdown",
   "metadata": {},
   "source": [
    "## Q2. Write the python function to get a string made of its first three characters of a specified string. If the length of the string is less than 3 then return the original string.\n",
    "    \n",
    "    Sample function and result :\n",
    "    first-three('ipy') -> ipy\n",
    "    first-three('python') -> pyt"
   ]
  },
  {
   "cell_type": "code",
   "execution_count": 3,
   "metadata": {},
   "outputs": [
    {
     "name": "stdout",
     "output_type": "stream",
     "text": [
      "Sample function and result :\n",
      "first-three('ipy') -> ipy\n",
      "first-three('python') -> pyt\n"
     ]
    }
   ],
   "source": [
    "def first_three(str1):\n",
    "    if len(str1) >= 3:\n",
    "        return str1[:3]\n",
    "    else:\n",
    "        return str1\n",
    "    \n",
    "a = first_three('ipy')\n",
    "b = first_three('python')\n",
    "print(\"Sample function and result :\")\n",
    "print(f'first-three(\\'ipy\\') -> {a}')\n",
    "print(f'first-three(\\'python\\') -> {b}')"
   ]
  },
  {
   "cell_type": "markdown",
   "metadata": {},
   "source": [
    "## Q3. Write the Python program to find smallest window that contains all characters of the given string?\n",
    "\n",
    "    Original Strings:\n",
    "    asdaewsqgtwwsa\n",
    "    Smallest window that contains all characters of the said string:\n",
    "    Daewsqgt"
   ]
  },
  {
   "cell_type": "code",
   "execution_count": 6,
   "metadata": {},
   "outputs": [
    {
     "name": "stdout",
     "output_type": "stream",
     "text": [
      "Original Strings:\n",
      "asdaewsqgtwwsa\n",
      "\n",
      "Smallest window containing all distinct characters is : \n",
      "daewsqgt\n"
     ]
    }
   ],
   "source": [
    "from collections import defaultdict \n",
    "\n",
    "MAX_CHARS = 256\n",
    "\n",
    "def findSubString(str): \n",
    "    n = len(str) \n",
    "\n",
    "    # Count all distinct characters. \n",
    "    dist_count = len(set([x for x in str])) \n",
    "\n",
    "    count, start, start_index, min_len = 0, 0, -1, 9999999999\n",
    "    curr_count = defaultdict(lambda: 0) \n",
    "    for j in range(n): \n",
    "        curr_count[str[j]] += 1\n",
    "        \n",
    "        if curr_count[str[j]] == 1: \n",
    "            count += 1\n",
    "\n",
    "        if count == dist_count: \n",
    "            while curr_count[str[start]] > 1: \n",
    "                if curr_count[str[start]] > 1: \n",
    "                    curr_count[str[start]] -= 1\n",
    "                start += 1\n",
    "\n",
    "            # Update window size \n",
    "            len_window = j - start + 1\n",
    "            if min_len > len_window: \n",
    "                min_len = len_window \n",
    "                start_index = start \n",
    "\n",
    "    return str[start_index: start_index + min_len] \n",
    "\n",
    "str1 = \"asdaewsqgtwwsa\"\n",
    "print(\"Original Strings:\")\n",
    "print(str1)\n",
    "\n",
    "print(\"\\nSmallest window containing all distinct characters is : \\n{}\".format(findSubString(str1)))"
   ]
  },
  {
   "cell_type": "markdown",
   "metadata": {},
   "source": [
    "## Q4. Write the Python program to count number of substrings from a given string of lowercase alphabets with exactly k distinct (given) characters?\n",
    "\n",
    "    Input a string (lowercase alphabets): wolf\n",
    "    Input k: 4\n",
    "    Number of substrings with exactly 4 distinct characters: 1"
   ]
  },
  {
   "cell_type": "code",
   "execution_count": 7,
   "metadata": {},
   "outputs": [
    {
     "name": "stdout",
     "output_type": "stream",
     "text": [
      "Input a string (lowercase alphabets) :  wolf\n",
      "Input k :  4\n",
      "\n",
      "Number of substrings with exactly 4 distinct characters : 1\n"
     ]
    }
   ],
   "source": [
    "def countkDist(str1, k): \n",
    "    n = len(str1) \n",
    "    res = 0\n",
    "    cnt = [0] * 27\n",
    "\n",
    "    for i in range(0, n): \n",
    "        dist_count = 0\n",
    "        cnt = [0] * 27\n",
    "        for j in range(i, n):  \n",
    "            if(cnt[ord(str1[j]) - 97] == 0): \n",
    "                dist_count += 1\n",
    "\n",
    "            cnt[ord(str1[j]) - 97] += 1\n",
    "\n",
    "            if(dist_count == k): \n",
    "                res += 1\n",
    "            if(dist_count > k): \n",
    "                break\n",
    "\n",
    "    return res\n",
    "\n",
    "\n",
    "str1 = \"wolf\"\n",
    "print('Input a string (lowercase alphabets) : ',str1)\n",
    "k = 4\n",
    "print('Input k : ',k)\n",
    "\n",
    "print(\"\\nNumber of substrings with exactly\", k, \n",
    "      \"distinct characters : \", end = \"\") \n",
    "print(countkDist(str1, k))"
   ]
  },
  {
   "cell_type": "markdown",
   "metadata": {},
   "source": [
    "## Q5. Write the Python program to count number of non-empty substrings of the given string?\n",
    "\n",
    "    Input a string: w3resource\n",
    "    Number of substrings:\n",
    "    55"
   ]
  },
  {
   "cell_type": "code",
   "execution_count": 8,
   "metadata": {},
   "outputs": [
    {
     "name": "stdout",
     "output_type": "stream",
     "text": [
      "Enter String : w3resource\n",
      "Number of substrings:\n",
      "55\n"
     ]
    }
   ],
   "source": [
    "def number_of_substrings(str1): \n",
    "    str_len = len(str1); \n",
    "    return int((str_len * (str_len + 1)) / 2); \n",
    "\n",
    "str1 = input('Enter String : ')\n",
    "print(\"Number of substrings:\") \n",
    "print(number_of_substrings(str1))"
   ]
  },
  {
   "cell_type": "markdown",
   "metadata": {},
   "source": [
    "## Q6. Write the Python program to count the number of strings where the string length is 2 or more, and first and last character are same from a given list of strings.\n",
    "\n",
    "    Sample List : ['abc', 'xyz', 'wxw', '1331']\n",
    "    Expected Result: 2"
   ]
  },
  {
   "cell_type": "code",
   "execution_count": 9,
   "metadata": {},
   "outputs": [
    {
     "name": "stdout",
     "output_type": "stream",
     "text": [
      "Sample List :  ['abc', 'xyz', 'wxw', '1331']\n",
      "Expected Result: 2\n"
     ]
    }
   ],
   "source": [
    "def match_words(words):\n",
    "    count = 0\n",
    "\n",
    "    for word in words:\n",
    "        if len(word) > 1 and word[0] == word[-1]:\n",
    "            count += 1\n",
    "    return count\n",
    "\n",
    "list1 =  ['abc', 'xyz', 'wxw', '1331']\n",
    "print(f'Sample List :  {list1}')\n",
    "\n",
    "len_word = match_words(['abc', 'xyz', 'wxw', '1331'])\n",
    "print(f'Expected Result: {len_word}')"
   ]
  },
  {
   "cell_type": "markdown",
   "metadata": {},
   "source": [
    "## Q7. Write the Python program to get a list, sorted in increasing order by the last element in each tuple from the given list of non-empty tuples?\n",
    "\n",
    "    Sample List - [ (2, 5), (1, 2), (4, 4), (2, 3), (2, 1) ]\n",
    "    Expected Result - [ (2, 1), (1, 2), (2, 3), (4, 4), (2, 5) ]"
   ]
  },
  {
   "cell_type": "code",
   "execution_count": 10,
   "metadata": {},
   "outputs": [
    {
     "name": "stdout",
     "output_type": "stream",
     "text": [
      "Sample List - [(2, 5), (1, 2), (4, 4), (2, 3), (2, 1)]\n",
      "Expected Result - [(2, 1), (1, 2), (2, 3), (4, 4), (2, 5)]\n"
     ]
    }
   ],
   "source": [
    "def last(n):\n",
    "    return n[-1]\n",
    "\n",
    "def sort_list_last(tuples):\n",
    "    return sorted(tuples, key=last)\n",
    "\n",
    "list1 = [(2, 5), (1, 2), (4, 4), (2, 3), (2, 1)]\n",
    "sort_tuple = sort_list_last(list1)\n",
    "\n",
    "print(f'Sample List - {list1}')\n",
    "print(f'Expected Result - {sort_tuple}')"
   ]
  },
  {
   "cell_type": "markdown",
   "metadata": {},
   "source": [
    "Q8. Write the Python program to remove duplicates from a list?"
   ]
  },
  {
   "cell_type": "code",
   "execution_count": 11,
   "metadata": {},
   "outputs": [
    {
     "name": "stdout",
     "output_type": "stream",
     "text": [
      "Sample List - [60, 40, 80, 20, 10, 50, 50, 40, 10, 20, 30]\n",
      "Expected Result contain unique_items  - [60, 40, 80, 20, 10, 50, 30]\n",
      "Expected Result contain duplicates_items in Sample List  - {40, 10, 80, 50, 20, 60, 30}\n"
     ]
    }
   ],
   "source": [
    "list1 = [60,40,80,20,10,50,50,40,10,20,30]\n",
    "\n",
    "dup_items = set()\n",
    "uniq_items = []\n",
    "for x in list1:\n",
    "    if x not in dup_items:\n",
    "        uniq_items.append(x)\n",
    "        dup_items.add(x)\n",
    "\n",
    "print(f'Sample List - {list1}')\n",
    "print(f'Expected Result contain unique_items  - {uniq_items}')\n",
    "print(f'Expected Result contain duplicates_items in Sample List  - {dup_items}')"
   ]
  },
  {
   "cell_type": "markdown",
   "metadata": {},
   "source": [
    "Q9. Write the Python program to find the list of words that are longer\n",
    "than n from a given list of words?"
   ]
  },
  {
   "cell_type": "code",
   "execution_count": 12,
   "metadata": {},
   "outputs": [
    {
     "name": "stdout",
     "output_type": "stream",
     "text": [
      "Sample List - Write the Python program to find the list of words that are longer than n from a given list of words\n",
      "Expected Result -  ['Write', 'Python', 'program', 'words', 'longer', 'given', 'words']\n"
     ]
    }
   ],
   "source": [
    "def long_words(n, str):\n",
    "    word_len = []\n",
    "    txt = str.split(\" \")\n",
    "    for x in txt:\n",
    "        if len(x) > n:\n",
    "            word_len.append(x)\n",
    "    return word_len\n",
    "\n",
    "str1 = \"Write the Python program to find the list of words that are longer than n from a given list of words\"\n",
    "print(f'Sample List - {str1}')\n",
    "print('Expected Result - ', long_words(4, str1))"
   ]
  },
  {
   "cell_type": "markdown",
   "metadata": {},
   "source": [
    "Q10. Write the Python program to print a specified list after removing the\n",
    "0th, 4th, and 5th elements?\n",
    "    \n",
    "    Sample List - ['Red', 'Green', 'White', 'Black', 'Pink', 'Yellow']\n",
    "    Expected Output - ['Green', 'White', 'Black']"
   ]
  },
  {
   "cell_type": "code",
   "execution_count": 13,
   "metadata": {},
   "outputs": [
    {
     "name": "stdout",
     "output_type": "stream",
     "text": [
      "Sample List - ['Red', 'Green', 'White', 'Black', 'Pink', 'Yellow']\n",
      "Expected Result - ['Green', 'White', 'Black']\n"
     ]
    }
   ],
   "source": [
    "color = ['Red', 'Green', 'White', 'Black', 'Pink', 'Yellow']\n",
    "color_remove = [x for (i,x) in enumerate(color) if i not in (0,4,5)]\n",
    "\n",
    "print(f'Sample List - {color}')\n",
    "print(f'Expected Result - {color_remove}')"
   ]
  },
  {
   "cell_type": "markdown",
   "metadata": {},
   "source": [
    "Q11. Write the Python program to generate all permutations of a list in\n",
    "Python?"
   ]
  },
  {
   "cell_type": "code",
   "execution_count": 14,
   "metadata": {},
   "outputs": [
    {
     "name": "stdout",
     "output_type": "stream",
     "text": [
      "Sample List - [1, 2, 3]\n",
      "Expected Result -  [(1, 2, 3), (1, 3, 2), (2, 1, 3), (2, 3, 1), (3, 1, 2), (3, 2, 1)]\n"
     ]
    }
   ],
   "source": [
    "import itertools\n",
    "\n",
    "list1 = [1,2,3]\n",
    "print(f'Sample List - {list1}')\n",
    "print('Expected Result - ', list(itertools.permutations(list1)))"
   ]
  },
  {
   "cell_type": "markdown",
   "metadata": {},
   "source": [
    "Q12. Write the Python program to convert a pair of values into a sorted\n",
    "unique array?\n",
    " \n",
    "    Original List- [ (1, 2), (3, 4), (1, 2), (5, 6), (7, 8), (1, 2), (3, 4), (3, 4), (7, 8), (9, 10) ]\n",
    "    Sorted Unique Data- [ 1, 2, 3, 4, 5, 6, 7, 8, 9, 10 ] \n"
   ]
  },
  {
   "cell_type": "code",
   "execution_count": 15,
   "metadata": {},
   "outputs": [
    {
     "name": "stdout",
     "output_type": "stream",
     "text": [
      "Original List:  [(1, 2), (3, 4), (1, 2), (5, 6), (7, 8), (1, 2), (3, 4), (3, 4), (7, 8), (9, 10)]\n",
      "Sorted Unique Data: [1, 2, 3, 4, 5, 6, 7, 8, 9, 10]\n"
     ]
    }
   ],
   "source": [
    "L = [(1, 2), (3, 4), (1, 2), (5, 6), (7, 8), (1, 2), (3, 4), (3, 4),(7, 8), (9, 10)]\n",
    "print(\"Original List: \", L)\n",
    "print(\"Sorted Unique Data:\",sorted(set().union(*L)))"
   ]
  },
  {
   "cell_type": "markdown",
   "metadata": {},
   "source": [
    "## Great job!"
   ]
  }
 ],
 "metadata": {
  "kernelspec": {
   "display_name": "Python 3",
   "language": "python",
   "name": "python3"
  },
  "language_info": {
   "codemirror_mode": {
    "name": "ipython",
    "version": 3
   },
   "file_extension": ".py",
   "mimetype": "text/x-python",
   "name": "python",
   "nbconvert_exporter": "python",
   "pygments_lexer": "ipython3",
   "version": "3.7.6"
  }
 },
 "nbformat": 4,
 "nbformat_minor": 2
}
