{
 "cells": [
  {
   "cell_type": "markdown",
   "metadata": {},
   "source": [
    "## Q1. Write a Python program to get the string from the given string where all the occurrence of its first char has been changed to \n",
    "'$,' except first char itself?\n",
    "\n",
    "    Sample String: 'prospect'\n",
    "    Expected Result : 'pros$ect'\n"
   ]
  },
  {
   "cell_type": "code",
   "execution_count": 1,
   "metadata": {},
   "outputs": [
    {
     "name": "stdout",
     "output_type": "stream",
     "text": [
      "Sample String: prospect\n",
      "Expected Result : \"pros$ect\"\n"
     ]
    }
   ],
   "source": [
    "def except_first_char(str1):\n",
    "    char = str1[0]\n",
    "    str1 = str1.replace(char, '$')\n",
    "    str1 = char + str1[1:]\n",
    "\n",
    "    return str1\n",
    "\n",
    "user = input('Sample String: ')\n",
    "\n",
    "output = except_first_char(user)\n",
    "print(f'Expected Result : \"{output}\"')"
   ]
  },
  {
   "cell_type": "markdown",
   "metadata": {},
   "source": [
    "## Q2. Write a Python program to get the single string from the two given strings, and separated by the space and swap the first two characters of each string?\n",
    "\n",
    "    Sample String : 'abc', 'xyz'.\n",
    "    Expected Result: 'xyc abz'"
   ]
  },
  {
   "cell_type": "code",
   "execution_count": 8,
   "metadata": {},
   "outputs": [
    {
     "name": "stdout",
     "output_type": "stream",
     "text": [
      "Sample String : 'abc', 'xyz'\n",
      "Expected Result: 'xyc abz'\n"
     ]
    }
   ],
   "source": [
    "def chars_swap(m, n):\n",
    "    p = n[:2] + m[2:]\n",
    "    q = m[:2] + n[2:]\n",
    "\n",
    "    return p + ' ' + q\n",
    "\n",
    "a = 'abc'\n",
    "b = 'xyz'\n",
    "print(f'Sample String : \\'{a}\\', \\'{b}\\'')\n",
    "\n",
    "swap = chars_swap(a, b)\n",
    "print(f'Expected Result: \\'{swap}\\'')"
   ]
  },
  {
   "cell_type": "markdown",
   "metadata": {},
   "source": [
    "## Q3. Write the Python program to add 'ing' at the end of the given string (length of the string should be at least 3). If given string already ends with 'ing,' then add 'ly' instead. If string length of the given string is less than 3, leave it unchanged?\n",
    "\n",
    "\n",
    "    Sample string: ' abc '\n",
    "    Expected result: ' abcing '\n",
    "    Sample string: ' string '\n",
    "    Expected result: ' stringly '\n"
   ]
  },
  {
   "cell_type": "code",
   "execution_count": 9,
   "metadata": {},
   "outputs": [
    {
     "name": "stdout",
     "output_type": "stream",
     "text": [
      "Sample String : 'abc'\n",
      "Expected Result: 'abcing'\n",
      "Sample String : 'string'\n",
      "Expected Result: 'stringly'\n"
     ]
    }
   ],
   "source": [
    "# Taking single string each time\n",
    "def change_string(string):\n",
    "    if len(string) >= 3:\n",
    "        if string[-3:].lower() == 'ing':\n",
    "            l = 'ly'\n",
    "            string = string + l\n",
    "        else:\n",
    "            k = 'ing'\n",
    "            string = string + k\n",
    "    else:\n",
    "        string\n",
    "        \n",
    "    return string\n",
    "\n",
    "str1 = 'abc'\n",
    "print(f'Sample String : \\'{str1}\\'')\n",
    "\n",
    "change_str1 = change_string(str1)\n",
    "print(f'Expected Result: \\'{change_str1}\\'')\n",
    "\n",
    "\n",
    "str2 = 'string'\n",
    "print(f'Sample String : \\'{str2}\\'')\n",
    "\n",
    "change_str2 = change_string(str2)\n",
    "print(f'Expected Result: \\'{change_str2}\\'')"
   ]
  },
  {
   "cell_type": "markdown",
   "metadata": {},
   "source": [
    "## Q4. Write the Python program to find the first appearance of the substring 'not' and 'poor' from the given string, if 'not' follows the 'poor', replace the whole 'not'...' poor' substring with 'good'.Return the resulting string.\n",
    "\n",
    "    Sample string: 'The lyrics are not that poor!'\n",
    "    'The lyrics are poor!'\n",
    "    Expected Result: 'The lyrics are good!'\n",
    "    'The lyrics are poor!'"
   ]
  },
  {
   "cell_type": "code",
   "execution_count": 10,
   "metadata": {},
   "outputs": [
    {
     "name": "stdout",
     "output_type": "stream",
     "text": [
      "Sample String : 'The lyrics are not that poor!'\n",
      " 'The lyrics are poor!'\n",
      "\n",
      "Expected Result: 'The lyrics are good!'\n",
      " 'The lyrics are good!'\n"
     ]
    }
   ],
   "source": [
    "import re\n",
    "\n",
    "def not_poor(str1):\n",
    "    snot = str1.find('not')\n",
    "    spoor = str1.find('poor')\n",
    "\n",
    "\n",
    "    if spoor > snot and snot>0 and spoor>0:\n",
    "        str1 = str1.replace(str1[snot:(spoor+4)], 'good')\n",
    "        return str1\n",
    "    else:\n",
    "        return str1\n",
    "    \n",
    "\n",
    "str1 = 'The lyrics are not that poor!'\n",
    "print(f'Sample String : \\'{str1}\\'')\n",
    "\n",
    "str2 = 'The lyrics are poor!'\n",
    "print(f' \\'{str2}\\'')\n",
    "\n",
    "change_str1 = not_poor(str1)\n",
    "print(f'\\nExpected Result: \\'{change_str1}\\'')\n",
    "\n",
    "change_str2 = not_poor(str1)\n",
    "print(f' \\'{change_str2}\\'')"
   ]
  },
  {
   "cell_type": "markdown",
   "metadata": {},
   "source": [
    "## Q5. Write the Python program to remove the characters which have odd index values of a given string."
   ]
  },
  {
   "cell_type": "code",
   "execution_count": 11,
   "metadata": {},
   "outputs": [
    {
     "name": "stdout",
     "output_type": "stream",
     "text": [
      "String at even place for \"Sahil\" : Shl\n",
      "String at even place for \"Kumar\": Kmr\n"
     ]
    }
   ],
   "source": [
    "def odd_values_string(str1):\n",
    "    even_values_string = \"\" \n",
    "    for i in range(len(str1)):\n",
    "        if i % 2 == 0:\n",
    "            even_values_string = even_values_string + str1[i]\n",
    "    return even_values_string\n",
    "\n",
    "str1 = odd_values_string('Sahil')\n",
    "str2 = odd_values_string('Kumar')\n",
    "print(f'String at even place for \"Sahil\" : {str1}')\n",
    "print(f'String at even place for \"Kumar\": {str2}')"
   ]
  },
  {
   "cell_type": "markdown",
   "metadata": {},
   "source": [
    "## Q6. Write the python program to print the following floating numbers up to 2 decimal places?"
   ]
  },
  {
   "cell_type": "code",
   "execution_count": 12,
   "metadata": {},
   "outputs": [
    {
     "name": "stdout",
     "output_type": "stream",
     "text": [
      "\n",
      "Original Number: 7.24336789\n",
      "Formatted Number: 7.24\n",
      "\n",
      "Original Number: 23.99657289\n",
      "Formatted Number: 24.00\n",
      "\n"
     ]
    }
   ],
   "source": [
    "x = 7.24336789\n",
    "y = 23.99657289\n",
    "\n",
    "print(f\"\\nOriginal Number: {x}\")\n",
    "print(f\"Formatted Number: {x:.2f}\\n\")\n",
    "\n",
    "print(f\"Original Number: {y}\")\n",
    "print(f\"Formatted Number: {y:.2f}\\n\")"
   ]
  },
  {
   "cell_type": "markdown",
   "metadata": {},
   "source": [
    "## Q7. Write the Python program to format a number with a percentage?"
   ]
  },
  {
   "cell_type": "code",
   "execution_count": 13,
   "metadata": {},
   "outputs": [
    {
     "name": "stdout",
     "output_type": "stream",
     "text": [
      "\n",
      "Original Number: 7.24336789\n",
      "Formatted Number: 724.34%\n",
      "\n",
      "Original Number: 23.99657289\n",
      "Formatted Number: 2399.66%\n",
      "\n"
     ]
    }
   ],
   "source": [
    "x = 7.24336789\n",
    "y = 23.99657289\n",
    "\n",
    "print(f\"\\nOriginal Number: {x}\")\n",
    "print(f\"Formatted Number: {x:.2%}\\n\")\n",
    "\n",
    "print(f\"Original Number: {y}\")\n",
    "print(f\"Formatted Number: {y:.2%}\\n\")"
   ]
  },
  {
   "cell_type": "markdown",
   "metadata": {},
   "source": [
    "## Q8. Write the Python program to count occurrences of a substring in a String?"
   ]
  },
  {
   "cell_type": "code",
   "execution_count": 15,
   "metadata": {},
   "outputs": [
    {
     "name": "stdout",
     "output_type": "stream",
     "text": [
      "String given :  Write the python function to get a string made of its first three characters of a specified string.\n",
      "\n",
      "Substring \"string\" count in a string given is : 2\n"
     ]
    }
   ],
   "source": [
    "def substring_count(str1, substring):\n",
    "    return str1.count(substring)\n",
    "\n",
    "str1 = \"Write the python function to get a string made of its first three characters of a specified string.\"\n",
    "substring = \"string\"\n",
    "print(\"String given : \", str1)\n",
    "count = substring_count(str1, substring)\n",
    "print(f'\\nSubstring \"{substring}\" count in a string given is : {count}')"
   ]
  },
  {
   "cell_type": "markdown",
   "metadata": {},
   "source": [
    "## Q9. Write the Python program to count repeated characters in a string.\n",
    "\n",
    "    Sample string: ' thequickbrownjumpsoverthelazydog '\n",
    "    \n",
    "    Expected output:\n",
    "    o 3\n",
    "    e 3\n",
    "    u 2\n",
    "    h 2\n",
    "    r 2\n",
    "    t 2"
   ]
  },
  {
   "cell_type": "code",
   "execution_count": 16,
   "metadata": {},
   "outputs": [
    {
     "name": "stdout",
     "output_type": "stream",
     "text": [
      "e 3\n",
      "h 2\n",
      "o 3\n",
      "r 2\n",
      "t 2\n",
      "u 2\n"
     ]
    }
   ],
   "source": [
    "chars = \"abcdefghijklmnopqrstuvwxyz\"\n",
    "check_string = \"thequickbrownjumpsoverthelazydog \"\n",
    "\n",
    "for char in chars:\n",
    "    count = check_string.count(char)\n",
    "    if count > 1:\n",
    "        print (char, count)"
   ]
  },
  {
   "cell_type": "markdown",
   "metadata": {},
   "source": [
    "## Q10. Write the Python program to print the square and cube symbol in the area of a rectangle and volume of a cylinder?\n",
    "\n",
    "    Sample outputThe area of the rectangle is 1256.66cm2\n",
    "    The volume of the cylinder is 1254.725cm3\n"
   ]
  },
  {
   "cell_type": "code",
   "execution_count": 17,
   "metadata": {},
   "outputs": [
    {
     "name": "stdout",
     "output_type": "stream",
     "text": [
      "The area of the rectangle is 1256.66cm²\n",
      "The volume of the cylinder is 1254.725cm³\n"
     ]
    }
   ],
   "source": [
    "area = 1256.66\n",
    "volume = 1254.725\n",
    "\n",
    "print(f\"The area of the rectangle is {area:{2}}cm\\u00b2\")\n",
    "\n",
    "print(f\"The volume of the cylinder is {volume:{3}}cm\\u00b3\")"
   ]
  },
  {
   "cell_type": "markdown",
   "metadata": {},
   "source": [
    "## Q11. Write the Python program to check if a string contains all letters of the alphabet?"
   ]
  },
  {
   "cell_type": "code",
   "execution_count": 18,
   "metadata": {},
   "outputs": [
    {
     "name": "stdout",
     "output_type": "stream",
     "text": [
      "String1 :  The quick brown fox jumps over the lazy dog\n",
      "Result for all letters of alphabet contain :  True\n",
      "\n",
      "String2 :  The quick brown fox jumps over the lazy cat\n",
      "Result for all letters of alphabet contain :  False\n"
     ]
    }
   ],
   "source": [
    "import string\n",
    "\n",
    "alphabet = set(string.ascii_lowercase)\n",
    "\n",
    "input_string1 = 'The quick brown fox jumps over the lazy dog'\n",
    "print('String1 : ', input_string1)\n",
    "print('Result for all letters of alphabet contain : ',set(input_string1.lower()) >= alphabet)\n",
    "\n",
    "input_string2 = 'The quick brown fox jumps over the lazy cat'\n",
    "print('\\nString2 : ', input_string2)\n",
    "print('Result for all letters of alphabet contain : ',set(input_string2.lower()) >= alphabet)"
   ]
  },
  {
   "cell_type": "markdown",
   "metadata": {},
   "source": [
    "## Q12. Write the Python program to find the second most repeated word in a given string?"
   ]
  },
  {
   "cell_type": "code",
   "execution_count": 20,
   "metadata": {},
   "outputs": [
    {
     "name": "stdout",
     "output_type": "stream",
     "text": [
      "List : ['aaa', 'bbb', 'ccc', 'bbb', 'aaa', 'aaa']\n",
      "\n",
      "Second most repeated word in a given string : \n",
      "bbb\n"
     ]
    }
   ],
   "source": [
    "from collections import Counter \n",
    "\n",
    "def secondFrequent(input1): \n",
    "\n",
    "    # Converting list into dictionary \n",
    "    dict1 = Counter(input1) \n",
    "\n",
    "    # list of all values and sorting in ascending order \n",
    "    value = sorted(dict1.values(), reverse=True) \n",
    "\n",
    "    # Picking second largest element \n",
    "    secondLarge = value[1] \n",
    "\n",
    "    # Traverse dictionary and printing the key whose \n",
    "    # value is equal to second large element \n",
    "    for (key, val) in dict1.items(): \n",
    "        if val == secondLarge: \n",
    "            print (key) \n",
    "            return\n",
    "\n",
    "\n",
    "input2 = ['aaa','bbb','ccc','bbb','aaa','aaa'] \n",
    "print(f'List : {input2}')\n",
    "\n",
    "print('\\nSecond most repeated word in a given string : ')\n",
    "secondFrequent(input2)"
   ]
  },
  {
   "cell_type": "markdown",
   "metadata": {},
   "source": [
    "## Q13. Write the Python program to find the minimum window in the given string, which will contains all the characters of another given strings?\n",
    "\n",
    "    Example 1\n",
    "    Input : string1 = \" PRWSOERIUSFK \"\n",
    "    string2 = \" OSU \"\n",
    "    Output: Minimum window is \"OERIUS\""
   ]
  },
  {
   "cell_type": "code",
   "execution_count": 21,
   "metadata": {},
   "outputs": [
    {
     "name": "stdout",
     "output_type": "stream",
     "text": [
      "Input :\n",
      "String1 =  PRWSOERIUSFK \n",
      "String2 =  OSU\n",
      "\n",
      "Output:\n",
      "Minimum window is \"OERIUS\"\n"
     ]
    }
   ],
   "source": [
    "# Function to find smallest window containing \n",
    "def min_window(str, pattern): \n",
    "\n",
    "    # To store no. of missing characters \n",
    "    missing = len(pattern) \n",
    "\n",
    "    # To count no. of characters needed \n",
    "    need = Counter(pattern) \n",
    "    I = J = i = 0\n",
    "\n",
    "    # Traversing through enumerate \n",
    "    for j, k in enumerate(str, 1): \n",
    "        missing -= need[k] > 0\n",
    "        need[k] -= 1\n",
    "\n",
    "        # If nothing is missing, remove as much as \n",
    "        # possible from the window start \n",
    "        if not missing: \n",
    "            while need[str[i]] < 0: \n",
    "                need[str[i]] += 1; i += 1\n",
    "\n",
    "            if not J or j - i <= J - I: \n",
    "                I, J = i, j \n",
    "\n",
    "            need[str[i]] += 1; i += 1; \n",
    "            missing += 1\n",
    "\n",
    "    # Returning result window\n",
    "    return str[I : J] \n",
    "\n",
    "print(\"Input :\")\n",
    "string1 = \"PRWSOERIUSFK \"\n",
    "string2 = \"OSU\"\n",
    "print('String1 = ',string1)\n",
    "print('String2 = ',string2)\n",
    "\n",
    "print(\"\\nOutput:\")\n",
    "win = min_window(string1, string2)\n",
    "print(f'Minimum window is \"{win}\"')"
   ]
  },
  {
   "cell_type": "markdown",
   "metadata": {},
   "source": [
    "## Q14. Write the Python program to count number of substrings from a given string of lowercase alphabets with exactly k distinct (given) characters?\n",
    "\n",
    "    Input a string (lowercase alphabets): wolf\n",
    "    Input k: 4\n",
    "    Number of substrings with exactly 4 distinct characters: 1"
   ]
  },
  {
   "cell_type": "code",
   "execution_count": 22,
   "metadata": {},
   "outputs": [
    {
     "name": "stdout",
     "output_type": "stream",
     "text": [
      "Input a string (lowercase alphabets) :  wolf\n",
      "Input k :  4\n",
      "\n",
      "Number of substrings with exactly 4 distinct characters : 1\n"
     ]
    }
   ],
   "source": [
    "def countkDist(str1, k): \n",
    "    n = len(str1) \n",
    "    res = 0\n",
    "    cnt = [0] * 27\n",
    "\n",
    "    for i in range(0, n): \n",
    "        dist_count = 0\n",
    "        cnt = [0] * 27\n",
    "        for j in range(i, n):  \n",
    "            if(cnt[ord(str1[j]) - 97] == 0): \n",
    "                dist_count += 1\n",
    "\n",
    "            cnt[ord(str1[j]) - 97] += 1\n",
    "\n",
    "            if(dist_count == k): \n",
    "                res += 1\n",
    "            if(dist_count > k): \n",
    "                break\n",
    "\n",
    "    return res\n",
    "\n",
    "\n",
    "str1 = \"wolf\"\n",
    "print('Input a string (lowercase alphabets) : ',str1)\n",
    "k = 4\n",
    "print('Input k : ',k)\n",
    "\n",
    "print(\"\\nNumber of substrings with exactly\", k, \n",
    "      \"distinct characters : \", end = \"\") \n",
    "print(countkDist(str1, k))\n"
   ]
  },
  {
   "cell_type": "markdown",
   "metadata": {},
   "source": [
    "## Q15. Write the Python program to count number of substrings with same first and last characters of the given string?\n",
    "\n",
    "    Input a string: abcd\n",
    "    4\n"
   ]
  },
  {
   "cell_type": "code",
   "execution_count": 23,
   "metadata": {},
   "outputs": [
    {
     "name": "stdout",
     "output_type": "stream",
     "text": [
      "Input a string: abcd\n",
      "4\n"
     ]
    }
   ],
   "source": [
    "def no_of_substring_with_equalEnds(str1): \n",
    "    result = 0; \n",
    "    n = len(str1); \n",
    "    for i in range(n): \n",
    "        for j in range(i, n): \n",
    "            if (str1[i] == str1[j]): \n",
    "                result = result + 1\n",
    "    return result \n",
    "str1 = input(\"Input a string: \")\n",
    "print(no_of_substring_with_equalEnds(str1))"
   ]
  },
  {
   "cell_type": "markdown",
   "metadata": {},
   "source": [
    "## Great Job!"
   ]
  }
 ],
 "metadata": {
  "kernelspec": {
   "display_name": "Python 3",
   "language": "python",
   "name": "python3"
  },
  "language_info": {
   "codemirror_mode": {
    "name": "ipython",
    "version": 3
   },
   "file_extension": ".py",
   "mimetype": "text/x-python",
   "name": "python",
   "nbconvert_exporter": "python",
   "pygments_lexer": "ipython3",
   "version": "3.7.6"
  }
 },
 "nbformat": 4,
 "nbformat_minor": 2
}
